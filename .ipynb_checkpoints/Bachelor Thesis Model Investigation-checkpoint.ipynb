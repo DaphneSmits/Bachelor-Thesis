{
 "cells": [
  {
   "cell_type": "code",
   "execution_count": 13,
   "metadata": {},
   "outputs": [],
   "source": [
    "import pandas as pd\n",
    "import numpy as np\n",
    "import matplotlib.pyplot as plt\n",
    "import sqlite3\n",
    "import shap\n",
    "import sklearn\n",
    "import math\n",
    "import sys\n",
    "\n",
    "from general_code import datasets, functions\n",
    "from sklearn.model_selection import train_test_split\n",
    "from sklearn import preprocessing\n",
    "from sklearn import metrics\n",
    "from sklearn.ensemble import RandomForestClassifier\n",
    "from sklearn.neighbors import NearestNeighbors, DistanceMetric\n",
    "from datetime import datetime\n",
    "from statistics import mode, median, mean \n",
    "from importlib import reload  "
   ]
  },
  {
   "cell_type": "code",
   "execution_count": 10,
   "metadata": {},
   "outputs": [],
   "source": [
    "if 'general_code' in sys.modules:  \n",
    "    del sys.modules[\"general_code\"]"
   ]
  },
  {
   "cell_type": "markdown",
   "metadata": {},
   "source": [
    "# Investigating the use of SHAP values to existing fairness measures\n",
    "\n",
    "### Current work on fairness\n",
    "\n",
    "As the use of decision making algorithms is increasing, so does the want for a proof of fairness of these algorithms. The discussion about many different possible fairness measures is therefore rising as well. \n",
    "\n",
    "### Current work on SHAP\n",
    "\n",
    "Apart from the need to verify the fairness of an algorithm, understanding its workings is of great importance as well. Of the currently available methods, SHAP is the most unified approach.\n",
    "\n",
    "### The models \n",
    "\n",
    "To explore the usefulness of SHAP in fairness assessment, two classification models were created. One model is based on the COMPAS dataset and predicts recidivism and the second model is based on the German Credit Risk dataset and predicts the risk of giving a loan. \n",
    "\n",
    "### Methods to improve or enhance fairness measures:\n",
    "#### 1. Correlation between SPD and SHAP values\n",
    "#### 2. Using SHAP distance to compute Individual Fairness\n",
    "#### 3. Explaining existing methods with SHAP values"
   ]
  },
  {
   "cell_type": "markdown",
   "metadata": {},
   "source": [
    "## The models\n",
    "\n",
    "The models were made using existing datasets which are known to be biased, thus creating biased models as well. The models are both random forest models, created with the RandomForestClassifier from the scikit-learn library. To make the data suitable for such a model, it was first preproccesed. This preprocessing consisted of making the data numerical and of appropriate format.\n",
    "\n",
    "The recidivism model is based on 33 attributes and consists of 8952 samples. The output is 0 (will not recidivate) or 1 (will recidivate). The credit model is based on 38 attributes and consists of 1000 samples. The output is 0 (low risk) or 1 (high risk).\n"
   ]
  },
  {
   "cell_type": "code",
   "execution_count": 14,
   "metadata": {},
   "outputs": [],
   "source": [
    "def get_data(dataset, include_sex = True):\n",
    "    if dataset == 'compas':\n",
    "        protected_att = ['sex_male', 'race_black']\n",
    "        return datasets.compas(include_sex)\n",
    "    elif dataset == 'german_credit':\n",
    "        protected_att = ['f_div/sep/mar']\n",
    "        return datasets.german_credit(include_sex)\n",
    "    \n",
    "X_train, X_test, y_train, y_test = get_data('german_credit')\n"
   ]
  },
  {
   "cell_type": "code",
   "execution_count": 15,
   "metadata": {},
   "outputs": [
    {
     "name": "stdout",
     "output_type": "stream",
     "text": [
      "[[139  12]\n",
      " [ 33  16]]\n",
      "0.775\n"
     ]
    }
   ],
   "source": [
    "# Build the model with the random forest regression algorithm:\n",
    "model = RandomForestClassifier(max_depth=6, random_state=0, n_estimators=10)\n",
    "model.fit(X_train, y_train)\n",
    "\n",
    "# Test the model:\n",
    "y_pred = model.predict(X_test)\n",
    "print(metrics.confusion_matrix(y_test, y_pred))\n",
    "print(metrics.accuracy_score(y_test, y_pred))\n"
   ]
  },
  {
   "cell_type": "code",
   "execution_count": 16,
   "metadata": {},
   "outputs": [
    {
     "name": "stderr",
     "output_type": "stream",
     "text": [
      "Setting feature_perturbation = \"tree_path_dependent\" because no background data was given.\n"
     ]
    }
   ],
   "source": [
    "#Calculate SHAP values\n",
    "explainer = shap.TreeExplainer(model)\n",
    "shap_values = explainer.shap_values(X_test)\n",
    "global_shap_values = shap_values[1].mean(0)"
   ]
  },
  {
   "cell_type": "markdown",
   "metadata": {},
   "source": [
    "## Methods to improve or enhance fairness measures:\n",
    "### 1. Correlation between fairness measures and SHAP values\n",
    "One way the SHAP values could prove to be usefull is if they could be used to replace existing measures. The intuitive nature of SHAP values could make them a better alternative than the existing measures. To find out whether the SHAP values are in some way related to the measures, the correlation between them is calculated. \n",
    "\n",
    "**Statistical Parity:**\n",
    "\n",
    "The first fairness measure that was compared to SHAP values is the notion of statistical parity (also called group fairness, equal acceptance rate or benchmarking). This notion is satisfied if all groups have equal outcomes. The statistical parity difference (SPD) is then a measure of the difference of outcomes between groups. If all groups have similar outputs, that means that the attribute that devides these groups should have no impact on the output of the model. The impact on the model can be measured with SHAP values. It would therefore be a logical conclusion that if the SPD is low, the protected attribute should also have a low general SHAP value. We would thus expect to find a correlation between the SPD when split on a certain attribute and the general SHAP value of this attribute. \n",
    "\n",
    "To test this hypothesis, the SPD and the general SHAP value are computed for all the attributes. Many of the attributes are not so called 'protected attributes', but the same behaviour is expected for attributes that are not considered 'protected'. To enable splitting the data on an attribute, the non-binary variables are split on the median value. One groups is thus the group with the 'low value' for the attribute and the other has the 'high value'. The SPD and the SHAP value of each attribute are computed and plotted against each other. The Pearson correlation coefficient will then show the correlation between the two variables. "
   ]
  },
  {
   "cell_type": "code",
   "execution_count": 19,
   "metadata": {},
   "outputs": [
    {
     "data": {
      "image/png": "[encoded data removed]",
      "text/plain": [
       "<Figure size 432x288 with 1 Axes>"
      ]
     },
     "metadata": {},
     "output_type": "display_data"
    },
    {
     "name": "stdout",
     "output_type": "stream",
     "text": [
      "[[ 1.         -0.34552247]\n",
      " [-0.34552247  1.        ]]\n"
     ]
    }
   ],
   "source": [
    "def compute_spd_shap_bin(attribute, val1=0, val2=1):\n",
    "    #Split data\n",
    "    _, _, _, _, y_pred_a, _, _, _, _, y_pred_b =  functions.split_data(X_train, y_train, X_test, y_test, model, attribute, val1=val1, val2=val2)\n",
    "    #Compute spd\n",
    "    spd = functions.statistical_parity_difference(y_pred_a, y_pred_b)\n",
    "    #Get global SHAP\n",
    "    att_idx = X_train.columns.get_loc(attribute)\n",
    "    shap = global_shap_values[att_idx]\n",
    "    return spd, shap\n",
    "\n",
    "def compute_spd_shap_nonbin(attribute, indices_test):\n",
    "    #Split data\n",
    "    X_test_a = X_test.loc[indices_test == 0]\n",
    "    X_test_b = X_test.loc[indices_test == 1]\n",
    "    y_pred_a = model.predict(X_test_a)\n",
    "    y_pred_b = model.predict(X_test_b)\n",
    "    #Compute spd\n",
    "    spd = functions.statistical_parity_difference(y_pred_a, y_pred_b)\n",
    "    #Get global SHAP\n",
    "    att_idx = X_train.columns.get_loc(attribute)\n",
    "    shap = global_shap_values[att_idx]\n",
    "    return spd, shap\n",
    "\n",
    "#Find which columns are binary and which are not\n",
    "bin_columns = []\n",
    "nonbin_columns = []\n",
    "for col in X_train.columns:\n",
    "    binary = True\n",
    "    for i in X_train[col]:\n",
    "        if i!=1 and i!=0:\n",
    "            binary = False\n",
    "    if binary == True:\n",
    "        bin_columns.append(col)\n",
    "    else:\n",
    "        nonbin_columns.append(col)\n",
    "\n",
    "#Save for all non-binary attributes whether a sample is low or high\n",
    "low_indices_test = np.zeros((np.shape(X_test)[0], np.shape(nonbin_columns)[0]))\n",
    "for col_idx, col in enumerate(nonbin_columns):\n",
    "    median_val = median(X_train[col])\n",
    "    for idx, i in enumerate(X_test[col]):\n",
    "        if i <= median_val:\n",
    "            low_indices_test[idx, col_idx] = 0\n",
    "        else:\n",
    "            low_indices_test[idx, col_idx] = 1\n",
    "\n",
    "#Compute the SPD and SHAP for all these attributes\n",
    "spd_vals = np.zeros(np.shape(bin_columns)[0] + np.shape(nonbin_columns)[0])\n",
    "shap_vals = np.zeros(np.shape(bin_columns)[0] + np.shape(nonbin_columns)[0])\n",
    "\n",
    "for idx, col in enumerate(bin_columns):\n",
    "    spd_vals[idx], shap_vals[idx] = compute_spd_shap_bin(col)\n",
    "for idx, col in enumerate(nonbin_columns):\n",
    "    spd_vals[np.shape(bin_columns)[0]+idx], shap_vals[np.shape(bin_columns)[0]+idx] = compute_spd_shap_nonbin(col, low_indices_test[:, idx])\n",
    "\n",
    "#Plot the SPD and SHAP\n",
    "plt.plot(spd_vals, shap_vals, 'ro')\n",
    "plt.xlabel('spd')\n",
    "plt.ylabel('shap')\n",
    "plt.show()\n",
    "\n",
    "corrcoef = np.corrcoef(spd_vals, shap_vals)\n",
    "print(corrcoef)"
   ]
  },
  {
   "cell_type": "markdown",
   "metadata": {},
   "source": [
    "### 2. Using SHAP distance to compute Individual Fairness\n",
    "\n",
    "Another way SHAP can be of use, is to improve an existing fairness measure. One fairness measure which could be improved using SHAP is the notion of Individual Fairness. An algorithm satisfies this notion of fairness if similar samples have similar output. Different metrics can be used to determine the similarity between samples. Most of the time, the similarity is computed based on the features. If two samples have similar features, the samples are considered similar as well. However, the features are often on different scale, which makes it difficult to compute similarity of such different features. To improve this notion of Individual Fairness, the similarity of samples can also be computed using SHAP values. If two samples have similar SHAP values, the samples are considered similar as well. Because SHAP values all have the same unit, determining similarity will become easier and more accurate. \n",
    "\n",
    "To test whether the use of SHAP values in this context truly improves the notion of Individual Fairness, certain aspects are looked at. First, the individuals who do not receive individual fairness are analyzed. These individuals can receive either a positive or negative bias. The expectation is that certain groups that have proven to be treated unfair, also receive unfair treatment based on the notion of Individual Fairness. "
   ]
  },
  {
   "cell_type": "code",
   "execution_count": null,
   "metadata": {},
   "outputs": [],
   "source": [
    "#Create a list of (the indices of) similair sample pairs\n",
    "scaler = preprocessing.StandardScaler()\n",
    "scaler.fit(X_train)\n",
    "\n",
    "X_train_scaled = scaler.transform(X_train)\n",
    "X_test_scaled = scaler.transform(X_test)\n",
    "\n",
    "nbrs = NearestNeighbors(n_neighbors=2, algorithm='ball_tree').fit(X_test_scaled)\n",
    "distances, indices = nbrs.kneighbors(X_test_scaled)\n",
    "\n",
    "indices_maxdist_list = []\n",
    "\n",
    "for idx, item in enumerate(indices):\n",
    "    if distances[idx, 1] <= 4:\n",
    "        indices_maxdist_list.append(item)\n",
    "\n",
    "print(np.shape(indices))\n",
    "print(np.shape(indices_maxdist_list)) \n",
    "similar_samples = np.array(indices_maxdist_list)"
   ]
  },
  {
   "cell_type": "code",
   "execution_count": null,
   "metadata": {},
   "outputs": [],
   "source": [
    "def euclidean_distance(l1, l2):\n",
    "    return math.sqrt(sum([(a - b) ** 2 for a, b in zip(l1, l2)]))\n",
    "\n",
    "threshold=0.1\n",
    "conf_matrix = np.zeros((2,2))\n",
    "for idx, [i, j] in enumerate(similar_samples):\n",
    "    shap_dist = euclidean_distance(shap_values[1][i], shap_values[1][j])\n",
    "    if y_pred[i] == y_pred[j] and shap_dist <= threshold:\n",
    "        conf_matrix[0][0] = conf_matrix[0][0] + 1\n",
    "    elif y_pred[i] != y_pred[j] and shap_dist <= threshold:\n",
    "        conf_matrix[0][1] = conf_matrix[0][1] + 1\n",
    "    elif y_pred[i] == y_pred[j] and shap_dist > threshold:\n",
    "        conf_matrix[1][0] = conf_matrix[1][0] + 1\n",
    "    elif y_pred[i] != y_pred[j] and shap_dist > threshold:\n",
    "        conf_matrix[1][1] = conf_matrix[1][1] + 1\n",
    "\n",
    "[[TP,FN],[FP,TN]] = conf_matrix\n",
    "\n",
    "accuracy = (TP + TN)/(TP+FN+FP+TN)\n",
    "\n",
    "print(accuracy)\n",
    "print(np.shape(similar_samples)) \n",
    "print(conf_matrix)"
   ]
  },
  {
   "cell_type": "code",
   "execution_count": null,
   "metadata": {},
   "outputs": [],
   "source": [
    "eucl_dist = [euclidean_distance(shap_values[1][i], shap_values[1][j]) for i,j in indices]\n",
    "fig = plt.figure()\n",
    "plt.plot(eucl_dist, distances[:,1], 'ro', markersize=4)\n",
    "#plt.yscale('symlog')\n",
    "plt.xlabel(\"Euclidean distance SHAP\")\n",
    "plt.ylabel(\"distance samples\")\n",
    "plt.title(\"Relation between the difference of the samples and the difference of the SHAP values for most similair pairs\")\n",
    "fig.savefig(\"Individual_fairness_credit.png\")\n",
    "\n",
    "\n"
   ]
  },
  {
   "cell_type": "code",
   "execution_count": null,
   "metadata": {},
   "outputs": [],
   "source": [
    "#Calculate Individual Fairness with d(i,j) = euclidean_distance(i,j)\n",
    "nbrs = NearestNeighbors(n_neighbors=4, algorithm='ball_tree').fit(X_test_scaled)\n",
    "_, indices_orig = nbrs.kneighbors(X_test_scaled)\n",
    "\n",
    "consistency_orig, negative_bias_orig, positive_bias_orig = consistency(X_test, y_pred, indices_orig)\n",
    "\n",
    "#Calculate Individual fairness with d(i,j) = euclidean_distance(shap(i), shap(j))\n",
    "def shap_dist(x,y):\n",
    "    shap_values_x = explainerModel.shap_values(x)\n",
    "    shap_values_y = explainerModel.shap_values(y)\n",
    "    return euclidean_distance(shap_values_x[1], shap_values_y[1])\n",
    "    \n",
    "nbrs = NearestNeighbors(n_neighbors=4, algorithm='ball_tree', metric= shap_dist ).fit(X_test_scaled)\n",
    "distances_shap, indices_shap = nbrs.kneighbors(X_test_scaled)\n",
    "\n",
    "consistency_shap, negative_bias_shap, positive_bias_shap = consistency(X_test, y_pred, indices_shap)\n",
    "\n",
    "print(consistency_orig)\n",
    "print(consistency_shap)\n",
    "\n",
    "print(np.shape(negative_bias_orig), np.shape(positive_bias_orig))\n",
    "print(np.shape(negative_bias_shap), np.shape(positive_bias_shap))"
   ]
  },
  {
   "cell_type": "code",
   "execution_count": null,
   "metadata": {},
   "outputs": [],
   "source": [
    "def check_bias(negative_bias, positive_bias):\n",
    "    female_neg = 0\n",
    "    male_neg = 0\n",
    "    for idx, i in enumerate(negative_bias):\n",
    "        if i['f_div/sep/mar'] ==1:\n",
    "            female_neg += 1\n",
    "        else:\n",
    "            male_neg += 1\n",
    "    female_pos = 0\n",
    "    male_pos = 0       \n",
    "    for idx, i in enumerate(positive_bias):\n",
    "        if i['f_div/sep/mar'] ==1:\n",
    "            female_pos += 1\n",
    "        else:\n",
    "            male_pos += 1\n",
    "    female_ratio =female_neg/(female_pos+female_neg)\n",
    "    male_ratio = male_neg/(male_pos+male_neg)\n",
    "    \n",
    "    print('pos/neg bias for male: ', male_pos, male_neg)\n",
    "    print('pos/neg bias for female: ', female_pos, female_neg)\n",
    "\n",
    "    return female_ratio, male_ratio\n",
    "\n",
    "female_ratio_orig, male_ratio_orig = check_bias(negative_bias_orig, positive_bias_orig)\n",
    "female_ratio_shap, male_ratio_shap = check_bias(negative_bias_shap, positive_bias_shap)\n",
    "print(female_ratio_orig, male_ratio_orig)\n",
    "print(female_ratio_shap, male_ratio_shap)\n"
   ]
  },
  {
   "cell_type": "markdown",
   "metadata": {},
   "source": [
    "## Protected attribute: Gender\n"
   ]
  },
  {
   "cell_type": "code",
   "execution_count": null,
   "metadata": {},
   "outputs": [],
   "source": [
    "data_split = split_data(X_train, y_train, X_test, y_test, model, 'f_div/sep/mar')\n",
    "X_train_female, y_train_female, X_test_female, y_test_female, y_pred_female, X_train_male, y_train_male, X_test_male, y_test_male, y_pred_male = data_split\n",
    "\n",
    "spd = statistical_parity_difference(y_pred_male, y_pred_female)\n",
    "print(spd)"
   ]
  },
  {
   "cell_type": "markdown",
   "metadata": {},
   "source": [
    "# Compute SHAP values"
   ]
  },
  {
   "cell_type": "code",
   "execution_count": null,
   "metadata": {},
   "outputs": [],
   "source": [
    "explainer = shap.TreeExplainer(model, shap.sample(X_train,100))\n",
    "shap_values = explainer.shap_values(X_test, y_pred)\n",
    "global_shap_values = np.abs(shap_values[1]).mean(0)\n",
    "shap.summary_plot(shap_values[1], X_test, plot_type = 'bar', show=False) \n"
   ]
  },
  {
   "cell_type": "markdown",
   "metadata": {},
   "source": [
    "# Explaining fairness with SHAP"
   ]
  },
  {
   "cell_type": "code",
   "execution_count": null,
   "metadata": {},
   "outputs": [],
   "source": [
    "def bar_plot(att, val, x_label, size):\n",
    "    plt.rcdefaults()\n",
    "    fig, ax = plt.subplots(figsize=size)\n",
    "    ax.barh(np.arange(len(att)), val, align='center', height=0.8,)\n",
    "    ax.set_yticks(np.arange(len(att)))\n",
    "    ax.set_yticklabels(att)\n",
    "    ax.invert_yaxis()  # labels read top-to-bottom\n",
    "    ax.set_xlabel(x_label)\n",
    "\n",
    "    plt.show()\n",
    "    "
   ]
  },
  {
   "cell_type": "code",
   "execution_count": null,
   "metadata": {},
   "outputs": [],
   "source": [
    "#Plot Statistical parity difference Men vs Woman:\n",
    "data_split = split_data(X_train, y_train, X_test, y_test, model, 'f_div/sep/mar')\n",
    "X_train_female, y_train_female, X_test_female, y_test_female, y_pred_female, X_train_male, y_train_male, X_test_male, y_test_male, y_pred_male = data_split\n",
    "y_pred_prob_male = model.predict_proba(X_test_male)[:,1]\n",
    "y_pred_prob_female = model.predict_proba(X_test_female)[:,1]\n",
    "\n",
    "spd = statistical_parity_difference(y_pred_male, y_pred_female)\n",
    "spd_prob = statistical_parity_difference(y_pred_prob_male, y_pred_prob_female)\n",
    "\n",
    "bar_plot([\"model output\", \"model probability output\"], [spd, spd_prob], 'Statistical parity difference of model output (men vs women)', (10,1))\n",
    "print(\"Negative values mean that women have a higher average predicted outcome than men\")\n",
    "print(spd, spd_prob)"
   ]
  },
  {
   "cell_type": "code",
   "execution_count": null,
   "metadata": {},
   "outputs": [],
   "source": [
    "shap_values_female = []\n",
    "shap_values_male = []\n",
    "is_female = np.asarray(X_test[\"f_div/sep/mar\"])\n",
    "for idx, i in enumerate(shap_values[1]):\n",
    "    if is_female[idx] == 1:\n",
    "        shap_values_female.append(i)\n",
    "    else:\n",
    "        shap_values_male.append(i)\n",
    "    \n",
    "\n",
    "shap_values_male = np.asarray(shap_values_male)\n",
    "shap_values_female = np.asarray(shap_values_female)\n",
    "att = np.asarray(X_train.columns)\n",
    "val = []\n",
    "for i in range(len(att)):\n",
    "    spd = statistical_parity_difference(shap_values_male[:,i], shap_values_female[:,i])\n",
    "    val.append(spd)\n",
    "            \n",
    "bar_plot(att, val, 'Statistical parity difference of SHAP values (men vs women)', (10,10))\n",
    "sum = 0\n",
    "for i in val:\n",
    "    sum+=i\n",
    "print(sum)\n"
   ]
  }
 ],
 "metadata": {
  "kernelspec": {
   "display_name": "Python 3",
   "language": "python",
   "name": "python3"
  },
  "language_info": {
   "codemirror_mode": {
    "name": "ipython",
    "version": 3
   },
   "file_extension": ".py",
   "mimetype": "text/x-python",
   "name": "python",
   "nbconvert_exporter": "python",
   "pygments_lexer": "ipython3",
   "version": "3.6.5"
  }
 },
 "nbformat": 4,
 "nbformat_minor": 4
}
